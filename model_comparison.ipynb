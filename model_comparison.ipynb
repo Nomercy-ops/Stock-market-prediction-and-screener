{
 "cells": [
  {
   "cell_type": "markdown",
   "id": "d6bb6531",
   "metadata": {},
   "source": [
    "# Stock Market Prediction using Machine Learning and Deep Learning"
   ]
  },
  {
   "cell_type": "markdown",
   "id": "6c6912d2",
   "metadata": {},
   "source": [
    "### Problem Statement"
   ]
  },
  {
   "cell_type": "markdown",
   "id": "75133380",
   "metadata": {},
   "source": [
    "Predicting the stock prices based on the historical data using machine learning techniques like Moving Avergae, Linear Regression and k-Nearest Neighbors and Deep learning algo LSTM."
   ]
  },
  {
   "cell_type": "markdown",
   "id": "de4a18a6",
   "metadata": {},
   "source": [
    "Data is gather  yahoo finance for past 5years and we will be using Adj Close as a input feature and predict the on validation dataset."
   ]
  },
  {
   "cell_type": "markdown",
   "id": "6df0c30f",
   "metadata": {},
   "source": [
    "### Importing Libraries"
   ]
  },
  {
   "cell_type": "code",
   "execution_count": null,
   "id": "364ff4ee",
   "metadata": {},
   "outputs": [],
   "source": [
    "import pandas as pd\n",
    "import numpy as np\n",
    "import matplotlib.pyplot as plt\n",
    "from matplotlib.pylab import rcParams\n",
    "rcParams['figure.figsize'] = 20,10\n",
    "from sklearn.preprocessing import MinMaxScaler\n",
    "scaler = MinMaxScaler(feature_range=(0,1))\n",
    "# import warnings\n",
    "# warnings.filterwarnings('ignore')\n",
    "import datetime as dt\n",
    "import yfinance as yf"
   ]
  },
  {
   "cell_type": "markdown",
   "id": "5b9f12d1",
   "metadata": {},
   "source": [
    "### Getting Data"
   ]
  },
  {
   "cell_type": "code",
   "execution_count": null,
   "id": "3721ed61",
   "metadata": {},
   "outputs": [],
   "source": [
    "import yfinance as yf\n",
    "import datetime as dt\n",
    "tickers = ['TCS.NS', 'TRIDENT.NS','TATAMOTORS.NS']\n",
    "# tickers = ['20MICRONS.NS']\n",
    "start = dt.datetime.today() - dt.timedelta(15 * 365)\n",
    "end = dt.datetime.today()\n",
    "\n",
    "for i in tickers:\n",
    "    data = yf.download(i,period='max')\n",
    "    data.to_csv(f'{i}.csv', index=True)\n",
    "    \n",
    "    "
   ]
  },
  {
   "cell_type": "markdown",
   "id": "28051fc3",
   "metadata": {},
   "source": [
    "We will implement our models/techniques on different 3 stocks based on market size."
   ]
  },
  {
   "cell_type": "code",
   "execution_count": null,
   "id": "31d91186",
   "metadata": {},
   "outputs": [],
   "source": [
    "tcs = pd.read_csv('TCS.NS.csv')\n",
    "tata = pd.read_csv('TATAMOTORS.NS.csv')\n",
    "trident = pd.read_csv('TRIDENT.NS.csv')"
   ]
  },
  {
   "cell_type": "code",
   "execution_count": null,
   "id": "6c69def1",
   "metadata": {},
   "outputs": [],
   "source": [
    "tcs['Date'].max"
   ]
  },
  {
   "cell_type": "markdown",
   "id": "488ce6cd",
   "metadata": {},
   "source": [
    "### Moving Average"
   ]
  },
  {
   "cell_type": "markdown",
   "id": "648b603b",
   "metadata": {},
   "source": [
    "The predicted closing price for each day will be the average of a set of previously observed values. Instead of using the simple average, we will be using the moving average technique which uses the latest set of values for each prediction. In other words, for each subsequent step, the predicted values are taken into consideration while removing the oldest observed value from the set. Here is a simple figure that will help you understand this with more clarity."
   ]
  },
  {
   "attachments": {
    "MA.webp": {
     "image/webp": "[encoded data removed]"
    }
   },
   "cell_type": "markdown",
   "id": "eb488f62",
   "metadata": {},
   "source": [
    "![MA.webp](attachment:MA.webp)"
   ]
  },
  {
   "cell_type": "markdown",
   "id": "36e19218",
   "metadata": {},
   "source": [
    "#### On TCS"
   ]
  },
  {
   "cell_type": "markdown",
   "id": "cc7f4c60",
   "metadata": {},
   "source": [
    "Let's implement Moving Average on TCS first."
   ]
  },
  {
   "cell_type": "code",
   "execution_count": null,
   "id": "ac34f7c7",
   "metadata": {},
   "outputs": [],
   "source": [
    "tcs.index=tcs['Date']\n",
    "\n",
    "tcs_df = tcs.sort_index(ascending=True, axis=0)\n",
    "tcs_new = pd.DataFrame(index=range(0, len(tcs)), columns=['Date', 'Adj Close'])\n",
    "\n",
    "for i in range(0,len(tcs_df)):\n",
    "    tcs_new['Date'][i] = tcs_df['Date'][i]\n",
    "    tcs_new['Adj Close'][i] = tcs_df['Adj Close'][i]\n",
    "\n",
    "#splitting training and validation dataset\n",
    "train = tcs_new[:990]\n",
    "valid = tcs_new[990:]\n",
    "\n",
    "#shapes of training set\n",
    "print(train.shape)\n",
    "\n",
    "#shapes of valid set\n",
    "print(valid.shape)\n",
    "\n",
    "preds = []\n",
    "for i in range(0,valid.shape[0]):\n",
    "    a = train['Adj Close'][len(train)-246+i:].sum() + sum(preds)\n",
    "    b = a/246\n",
    "    preds.append(b)\n",
    "    \n",
    "# checking the results (RMSE value)\n",
    "rms=np.sqrt(np.mean(np.power((np.array(valid['Adj Close'])-preds),2)))\n",
    "print('\\nRMSE value on validation set:')\n",
    "print(rms)\n",
    "\n",
    "#plot\n",
    "valid=valid.copy()\n",
    "valid['Predictions'] = 0\n",
    "valid['Predictions'] = preds\n",
    "plt.plot(train['Adj Close'])\n",
    "plt.plot(valid[['Adj Close', 'Predictions']])\n",
    "plt.title('Predicted adj close price vs actual close price on TCS ');"
   ]
  },
  {
   "cell_type": "markdown",
   "id": "92dc41e8",
   "metadata": {},
   "source": [
    "#### On TataMotors"
   ]
  },
  {
   "cell_type": "code",
   "execution_count": null,
   "id": "e491979d",
   "metadata": {},
   "outputs": [],
   "source": [
    "tata.index=tcs['Date']\n",
    "\n",
    "tata_df = tata.sort_index(ascending=True, axis=0)\n",
    "tata_new = pd.DataFrame(index=range(0, len(tata)), columns=['Date', 'Adj Close'])\n",
    "\n",
    "for i in range(0,len(tata_df)):\n",
    "    tata_new['Date'][i] = tata_df['Date'][i]\n",
    "    tata_new['Adj Close'][i] = tata_df['Adj Close'][i]\n",
    "\n",
    "#splitting training and validation dataset\n",
    "train = tata_new[:990]\n",
    "valid = tata_new[990:]\n",
    "\n",
    "#shapes of training set\n",
    "print(train.shape)\n",
    "\n",
    "#shapes of valid set\n",
    "print(valid.shape)\n",
    "\n",
    "preds = []\n",
    "for i in range(0,valid.shape[0]):\n",
    "    a = train['Adj Close'][len(train)-246+i:].sum() + sum(preds)\n",
    "    b = a/246\n",
    "    preds.append(b)\n",
    "    \n",
    "# checking the results (RMSE value)\n",
    "rms=np.sqrt(np.mean(np.power((np.array(valid['Adj Close'])-preds),2)))\n",
    "print('\\nRMSE value on validation set:')\n",
    "print(rms)\n",
    "\n",
    "#plot\n",
    "valid = valid.copy()\n",
    "valid['Predictions'] = 0\n",
    "valid['Predictions'] = preds\n",
    "plt.plot(train['Adj Close'])\n",
    "plt.plot(valid[['Adj Close', 'Predictions']])\n",
    "plt.title('Predicted adj close price vs actual close price on Tata Motors ');"
   ]
  },
  {
   "cell_type": "markdown",
   "id": "05722be0",
   "metadata": {},
   "source": [
    "#### On Trident"
   ]
  },
  {
   "cell_type": "code",
   "execution_count": null,
   "id": "c7e63008",
   "metadata": {},
   "outputs": [],
   "source": [
    "trident.index=trident['Date']\n",
    "\n",
    "trident_df = trident.sort_index(ascending=True, axis=0)\n",
    "trident_new = pd.DataFrame(index=range(0, len(trident)), columns=['Date', 'Adj Close'])\n",
    "\n",
    "for i in range(0,len(trident_df)):\n",
    "    trident_new['Date'][i] = trident_df['Date'][i]\n",
    "    trident_new['Adj Close'][i] = trident_df['Adj Close'][i]\n",
    "\n",
    "#splitting training and validation dataset\n",
    "train = trident_new[:990]\n",
    "valid = trident_new[990:]\n",
    "\n",
    "#shapes of training set\n",
    "print(train.shape)\n",
    "\n",
    "#shapes of valid set\n",
    "print(valid.shape)\n",
    "\n",
    "preds = []\n",
    "for i in range(0,valid.shape[0]):\n",
    "    a = train['Adj Close'][len(train)-246+i:].sum() + sum(preds)\n",
    "    b = a/246\n",
    "    preds.append(b)\n",
    "    \n",
    "# checking the results (RMSE value)\n",
    "rms=np.sqrt(np.mean(np.power((np.array(valid['Adj Close'])-preds),2)))\n",
    "print('\\nRMSE value on validation set:')\n",
    "print(rms)\n",
    "\n",
    "#plot\n",
    "valid = valid.copy()\n",
    "valid['Predictions'] = 0\n",
    "valid['Predictions'] = preds\n",
    "plt.plot(train['Adj Close'])\n",
    "plt.plot(valid[['Adj Close', 'Predictions']])\n",
    "plt.title('Predicted adj close price vs actual close price on Trident ');"
   ]
  },
  {
   "cell_type": "markdown",
   "id": "92b753d7",
   "metadata": {},
   "source": [
    "#### Inference"
   ]
  },
  {
   "cell_type": "markdown",
   "id": "8b01f196",
   "metadata": {},
   "source": [
    "The RMSE value is minimum but the results are not very promising (as you can gather from the plot). The predicted values are of the same range as the observed values in the train set (there is an increasing trend initially and then a slow decrease)."
   ]
  },
  {
   "cell_type": "markdown",
   "id": "cc3a511d",
   "metadata": {},
   "source": [
    "### k-Nearest Neighbors"
   ]
  },
  {
   "cell_type": "markdown",
   "id": "8fede9fa",
   "metadata": {},
   "source": [
    "Another interesting ML algorithm that one can use here is kNN (k nearest neighbours). Based on the independent variables, kNN finds the similarity between new data points and old data points. \n"
   ]
  },
  {
   "cell_type": "markdown",
   "id": "66f944c0",
   "metadata": {},
   "source": [
    "#### On TCS"
   ]
  },
  {
   "cell_type": "code",
   "execution_count": null,
   "id": "ab8ecda3",
   "metadata": {},
   "outputs": [],
   "source": [
    "#create features\n",
    "\n",
    "tcs_new['Date'] = tcs_new['Date'].astype('datetime64[ns]')\n",
    "tcs_new[\"Year\"] = tcs_new.Date.dt.year\n",
    "tcs_new[\"Month\"] = tcs_new.Date.dt.month\n",
    "tcs_new[\"Day\"] = tcs_new.Date.dt.day\n",
    "tcs_new[\"DayOfWeek\"] = tcs_new.Date.dt.dayofweek\n",
    "tcs_new[\"DayOfYear\"] = tcs_new.Date.dt.dayofyear\n",
    "\n",
    "tcs_new.drop('Date', axis=1,inplace=True)"
   ]
  },
  {
   "cell_type": "code",
   "execution_count": null,
   "id": "543facf5",
   "metadata": {},
   "outputs": [],
   "source": [
    "from sklearn import neighbors\n",
    "from sklearn.model_selection import GridSearchCV\n",
    "\n",
    "#split into train and validation\n",
    "train = tcs_new[:990]\n",
    "valid = tcs_new[990:]\n",
    "\n",
    "x_train = train.drop('Adj Close', axis=1)\n",
    "y_train = train['Adj Close']\n",
    "x_valid = valid.drop('Adj Close', axis=1)\n",
    "y_valid = valid['Adj Close']\n",
    "\n",
    "#using gridsearch to find the best parameter\n",
    "params = {'n_neighbors':[2,3,4,5,6,7,8,9]}\n",
    "knn = neighbors.KNeighborsRegressor()\n",
    "model = GridSearchCV(knn, params, cv=5)\n",
    "\n",
    "#fit the model and make predictions\n",
    "model.fit(x_train,y_train)\n",
    "preds = model.predict(x_valid)\n",
    "print('Model Fitted!')\n",
    "\n",
    "#rmse\n",
    "rms=np.sqrt(np.mean(np.power((np.array(y_valid)-np.array(preds)),2)))\n",
    "print('RMSE is',rms)\n",
    "\n",
    "#plot\n",
    "valid = valid.copy()\n",
    "valid['Predictions'] = 0\n",
    "valid['Predictions'] = preds\n",
    "plt.plot(valid[['Adj Close', 'Predictions']])\n",
    "plt.plot(train['Adj Close']);\n",
    "plt.title('Predicted adj close price vs actual close price on TCS ');\n"
   ]
  },
  {
   "cell_type": "markdown",
   "id": "e81b2eb0",
   "metadata": {},
   "source": [
    "#### On TataMotors"
   ]
  },
  {
   "cell_type": "code",
   "execution_count": null,
   "id": "30c3884a",
   "metadata": {},
   "outputs": [],
   "source": [
    "#create features\n",
    "\n",
    "tata_new['Date'] = tata_new['Date'].astype('datetime64[ns]')\n",
    "tata_new[\"Year\"] = tata_new.Date.dt.year\n",
    "tata_new[\"Month\"] = tata_new.Date.dt.month\n",
    "tata_new[\"Day\"] = tata_new.Date.dt.day\n",
    "tata_new[\"DayOfWeek\"] = tata_new.Date.dt.dayofweek\n",
    "tata_new[\"DayOfYear\"] = tata_new.Date.dt.dayofyear\n",
    "\n",
    "tata_new.drop('Date', axis=1,inplace=True)"
   ]
  },
  {
   "cell_type": "code",
   "execution_count": null,
   "id": "176003f8",
   "metadata": {},
   "outputs": [],
   "source": [
    "#split into train and validation\n",
    "train = tata_new[:990]\n",
    "valid = tata_new[990:]\n",
    "\n",
    "x_train = train.drop('Adj Close', axis=1)\n",
    "y_train = train['Adj Close']\n",
    "x_valid = valid.drop('Adj Close', axis=1)\n",
    "y_valid = valid['Adj Close']\n",
    "\n",
    "#using gridsearch to find the best parameter\n",
    "params = {'n_neighbors':[2,3,4,5,6,7,8,9]}\n",
    "knn = neighbors.KNeighborsRegressor()\n",
    "model = GridSearchCV(knn, params, cv=5)\n",
    "\n",
    "#fit the model and make predictions\n",
    "model.fit(x_train,y_train)\n",
    "preds = model.predict(x_valid)\n",
    "print('Model Fitted!')\n",
    "\n",
    "#rmse\n",
    "rms=np.sqrt(np.mean(np.power((np.array(y_valid)-np.array(preds)),2)))\n",
    "print('RMSE is',rms)\n",
    "\n",
    "#plot\n",
    "valid = valid.copy()\n",
    "valid['Predictions'] = 0\n",
    "valid['Predictions'] = preds\n",
    "plt.plot(valid[['Adj Close', 'Predictions']])\n",
    "plt.plot(train['Adj Close']);\n",
    "plt.title('Predicted adj close price vs actual close price on Tata Motors ');\n"
   ]
  },
  {
   "cell_type": "markdown",
   "id": "a9210065",
   "metadata": {},
   "source": [
    "#### On Trident"
   ]
  },
  {
   "cell_type": "code",
   "execution_count": null,
   "id": "a8b77bac",
   "metadata": {},
   "outputs": [],
   "source": [
    "#create features\n",
    "\n",
    "trident_new['Date'] = trident_new['Date'].astype('datetime64[ns]')\n",
    "trident_new[\"Year\"] = trident_new.Date.dt.year\n",
    "trident_new[\"Month\"] = trident_new.Date.dt.month\n",
    "trident_new[\"Day\"] = trident_new.Date.dt.day\n",
    "trident_new[\"DayOfWeek\"] = trident_new.Date.dt.dayofweek\n",
    "trident_new[\"DayOfYear\"] = trident_new.Date.dt.dayofyear\n",
    "\n",
    "trident_new.drop('Date', axis=1,inplace=True)"
   ]
  },
  {
   "cell_type": "code",
   "execution_count": null,
   "id": "74ab023b",
   "metadata": {},
   "outputs": [],
   "source": [
    "#split into train and validation\n",
    "train = trident_new[:990]\n",
    "valid = trident_new[990:]\n",
    "\n",
    "x_train = train.drop('Adj Close', axis=1)\n",
    "y_train = train['Adj Close']\n",
    "x_valid = valid.drop('Adj Close', axis=1)\n",
    "y_valid = valid['Adj Close']\n",
    "\n",
    "#using gridsearch to find the best parameter\n",
    "params = {'n_neighbors':[2,3,4,5,6,7,8,9]}\n",
    "knn = neighbors.KNeighborsRegressor()\n",
    "model = GridSearchCV(knn, params, cv=5)\n",
    "\n",
    "#fit the model and make predictions\n",
    "model.fit(x_train,y_train)\n",
    "preds = model.predict(x_valid)\n",
    "print('Model Fitted!')\n",
    "\n",
    "#rmse\n",
    "rms=np.sqrt(np.mean(np.power((np.array(y_valid)-np.array(preds)),2)))\n",
    "print('RMSE is',rms)\n",
    "\n",
    "#plot\n",
    "valid = valid.copy()\n",
    "valid['Predictions'] = 0\n",
    "valid['Predictions'] = preds\n",
    "plt.plot(valid[['Adj Close', 'Predictions']])\n",
    "plt.plot(train['Adj Close']);\n",
    "plt.title('Predicted adj close price vs actual close price on Trident ');"
   ]
  },
  {
   "cell_type": "markdown",
   "id": "8410a855",
   "metadata": {},
   "source": [
    "### Linear Regression"
   ]
  },
  {
   "cell_type": "markdown",
   "id": "28a545e7",
   "metadata": {},
   "source": [
    "The most basic machine learning algorithm that can be implemented on this data is linear regression. The linear regression model returns an equation that determines the relationship between the independent variables and the dependent variable.\n",
    "\n"
   ]
  },
  {
   "cell_type": "markdown",
   "id": "704b52c3",
   "metadata": {},
   "source": [
    "#### On TCS"
   ]
  },
  {
   "cell_type": "code",
   "execution_count": null,
   "id": "95c7478a",
   "metadata": {},
   "outputs": [],
   "source": [
    "#split into train and validation\n",
    "train = tcs_new[:990]\n",
    "valid = tcs_new[990:]\n",
    "\n",
    "x_train = train.drop('Adj Close', axis=1)\n",
    "y_train = train['Adj Close']\n",
    "x_valid = valid.drop('Adj Close', axis=1)\n",
    "y_valid = valid['Adj Close']\n",
    "\n",
    "#implement linear regression\n",
    "from sklearn.linear_model import LinearRegression\n",
    "model = LinearRegression()\n",
    "model.fit(x_train,y_train)\n",
    "print('Model Fitted!')\n",
    "\n",
    "#make predictions and find the rmse\n",
    "preds = model.predict(x_valid)\n",
    "rms=np.sqrt(np.mean(np.power((np.array(y_valid)-np.array(preds)),2)))\n",
    "print('RMSE is',rms)\n",
    "\n",
    "#plot\n",
    "valid = valid.copy()\n",
    "valid['Predictions'] = 0\n",
    "valid['Predictions'] = preds\n",
    "\n",
    "valid.index = tcs_new[990:].index\n",
    "train.index = tcs_new[:990].index\n",
    "\n",
    "plt.plot(train['Adj Close'])\n",
    "plt.plot(valid[['Adj Close', 'Predictions']]);\n",
    "plt.title('Predicted adj close price vs actual close price on TCS ');"
   ]
  },
  {
   "cell_type": "markdown",
   "id": "63a4cd75",
   "metadata": {},
   "source": [
    "#### On TATAMOTORS"
   ]
  },
  {
   "cell_type": "code",
   "execution_count": null,
   "id": "77db0a9e",
   "metadata": {},
   "outputs": [],
   "source": [
    "#split into train and validation\n",
    "train = tata_new[:990]\n",
    "valid = tata_new[990:]\n",
    "\n",
    "x_train = train.drop('Adj Close', axis=1)\n",
    "y_train = train['Adj Close']\n",
    "x_valid = valid.drop('Adj Close', axis=1)\n",
    "y_valid = valid['Adj Close']\n",
    "\n",
    "#implement linear regression\n",
    "from sklearn.linear_model import LinearRegression\n",
    "model = LinearRegression()\n",
    "model.fit(x_train,y_train)\n",
    "print('Model Fitted!')\n",
    "\n",
    "#make predictions and find the rmse\n",
    "preds = model.predict(x_valid)\n",
    "rms=np.sqrt(np.mean(np.power((np.array(y_valid)-np.array(preds)),2)))\n",
    "print('RMSE is',rms)\n",
    "\n",
    "#plot\n",
    "valid = valid.copy()\n",
    "valid['Predictions'] = 0\n",
    "valid['Predictions'] = preds\n",
    "\n",
    "valid.index = tata_new[990:].index\n",
    "train.index = tata_new[:990].index\n",
    "\n",
    "plt.plot(train['Adj Close'])\n",
    "plt.plot(valid[['Adj Close', 'Predictions']]);\n",
    "plt.title('Predicted adj close price vs actual close price on Tata Motors ');"
   ]
  },
  {
   "cell_type": "markdown",
   "id": "a2be892a",
   "metadata": {},
   "source": [
    "#### On Trident"
   ]
  },
  {
   "cell_type": "code",
   "execution_count": null,
   "id": "ed199cd7",
   "metadata": {},
   "outputs": [],
   "source": [
    "#split into train and validation\n",
    "train = trident_new[:990]\n",
    "valid = trident_new[990:]\n",
    "\n",
    "x_train = train.drop('Adj Close', axis=1)\n",
    "y_train = train['Adj Close']\n",
    "x_valid = valid.drop('Adj Close', axis=1)\n",
    "y_valid = valid['Adj Close']\n",
    "\n",
    "#implement linear regression\n",
    "from sklearn.linear_model import LinearRegression\n",
    "model = LinearRegression()\n",
    "model.fit(x_train,y_train)\n",
    "print('Model Fitted!')\n",
    "\n",
    "#make predictions and find the rmse\n",
    "preds = model.predict(x_valid)\n",
    "rms=np.sqrt(np.mean(np.power((np.array(y_valid)-np.array(preds)),2)))\n",
    "print('RMSE is',rms)\n",
    "\n",
    "#plot\n",
    "valid = valid.copy()\n",
    "valid['Predictions'] = 0\n",
    "valid['Predictions'] = preds\n",
    "\n",
    "valid.index = trident_new[990:].index\n",
    "train.index = trident_new[:990].index\n",
    "\n",
    "plt.plot(train['Adj Close'])\n",
    "plt.plot(valid[['Adj Close', 'Predictions']]);\n",
    "plt.title('Predicted adj close price vs actual close price on Trident ');"
   ]
  },
  {
   "cell_type": "markdown",
   "id": "019f181d",
   "metadata": {},
   "source": [
    "### LSTM"
   ]
  },
  {
   "cell_type": "markdown",
   "id": "b1fac1b8",
   "metadata": {},
   "source": [
    "LSTMs are widely used for sequence prediction problems and have proven to be extremely effective. The reason they work so well is because LSTM is able to store past information that is important, and forget the information that is not. LSTM has three gates:\n",
    "\n",
    " - The input gate: The input gate adds information to the cell state\n",
    "\n",
    " - The forget gate: It removes the information that is no longer required by the model\n",
    "\n",
    " - The output gate: Output Gate at LSTM selects the information to be shown as output\n"
   ]
  },
  {
   "cell_type": "markdown",
   "id": "87e422c0",
   "metadata": {},
   "source": [
    "#### On TCS"
   ]
  },
  {
   "cell_type": "code",
   "execution_count": null,
   "id": "b8a67c47",
   "metadata": {},
   "outputs": [],
   "source": [
    "#importing required libraries\n",
    "from sklearn.preprocessing import MinMaxScaler\n",
    "from keras.models import Sequential\n",
    "from keras.layers import Dense, Dropout, LSTM\n",
    "from sklearn.metrics import mean_squared_error\n",
    "#creating dataframe\n",
    "tcs_lstm = pd.DataFrame(index=range(0,len(tcs_df)),columns=['Date', 'Adj Close'])\n",
    "for i in range(0,len(tcs_df)):\n",
    "    tcs_lstm['Date'][i] = tcs_df['Date'][i]\n",
    "    tcs_lstm['Adj Close'][i] = tcs_df['Adj Close'][i]\n",
    "\n",
    "#setting index\n",
    "tcs_lstm.index = tcs_lstm.Date\n",
    "tcs_lstm.drop('Date', axis=1, inplace=True)\n",
    "\n",
    "\n",
    "#creating train and test sets\n",
    "dataset = tcs_lstm.values\n",
    "\n",
    "train = dataset[0:990,:]\n",
    "valid = dataset[990:,:]\n",
    "\n",
    "#converting dataset into x_train and y_train\n",
    "scaler = MinMaxScaler(feature_range=(0, 1))\n",
    "scaled_data = scaler.fit_transform(dataset)\n",
    "\n",
    "x_train, y_train = [], []\n",
    "for i in range(60,len(train)):\n",
    "    x_train.append(scaled_data[i-60:i,0])\n",
    "    y_train.append(scaled_data[i,0])\n",
    "x_train, y_train = np.array(x_train), np.array(y_train)\n",
    "\n",
    "x_train = np.reshape(x_train, (x_train.shape[0],x_train.shape[1],1))\n",
    "\n",
    "# create and fit the LSTM network\n",
    "model = Sequential()\n",
    "model.add(LSTM(units=50, return_sequences=True, input_shape=(x_train.shape[1],1)))\n",
    "model.add(LSTM(units=50))\n",
    "model.add(Dense(1))\n",
    "\n",
    "model.compile(loss='mean_squared_error', optimizer='adam')\n",
    "model.fit(x_train, y_train, epochs=1, batch_size=1, verbose=2)\n",
    "print('Fitting Model')\n",
    "#predicting 246 values, using past 60 from the train data\n",
    "inputs = tcs_lstm[len(tcs_lstm) - len(valid) - 60:].values\n",
    "inputs = inputs.reshape(-1,1)\n",
    "inputs  = scaler.transform(inputs)\n",
    "\n",
    "X_test = []\n",
    "for i in range(60,inputs.shape[0]):\n",
    "    X_test.append(inputs[i-60:i,0])\n",
    "X_test = np.array(X_test)\n",
    "\n",
    "X_test = np.reshape(X_test, (X_test.shape[0],X_test.shape[1],1))\n",
    "closing_price = model.predict(X_test)\n",
    "closing_price = scaler.inverse_transform(closing_price)\n",
    "\n",
    "rms=np.sqrt(mean_squared_error(closing_price,valid))\n",
    "print('RMSE is',rms)\n",
    "\n",
    "#for plotting\n",
    "train = tcs_lstm[:990]\n",
    "valid = tcs_lstm[990:]\n",
    "valid['Predictions'] = closing_price\n",
    "plt.plot(train['Adj Close'])\n",
    "plt.plot(valid[['Adj Close','Predictions']]);\n",
    "plt.title('Predicted adj close price vs actual close price on TCS ');\n"
   ]
  },
  {
   "cell_type": "markdown",
   "id": "a39ac7cd",
   "metadata": {},
   "source": [
    "# V2 model"
   ]
  },
  {
   "cell_type": "code",
   "execution_count": null,
   "id": "85035ff9",
   "metadata": {},
   "outputs": [],
   "source": []
  },
  {
   "cell_type": "code",
   "execution_count": null,
   "id": "90264c85",
   "metadata": {},
   "outputs": [],
   "source": []
  },
  {
   "cell_type": "markdown",
   "id": "d153e9aa",
   "metadata": {},
   "source": [
    "#### On TataMotors"
   ]
  },
  {
   "cell_type": "code",
   "execution_count": null,
   "id": "e4f3dbfa",
   "metadata": {},
   "outputs": [],
   "source": [
    "#creating dataframe\n",
    "tata_lstm = pd.DataFrame(index=range(0,len(tata_df)),columns=['Date', 'Adj Close'])\n",
    "for i in range(0,len(tata_df)):\n",
    "    tata_lstm['Date'][i] = tata_df['Date'][i]\n",
    "    tata_lstm['Adj Close'][i] = tata_df['Adj Close'][i]\n",
    "\n",
    "#setting index\n",
    "tata_lstm.index = tata_lstm.Date\n",
    "tata_lstm.drop('Date', axis=1, inplace=True)\n",
    "\n",
    "\n",
    "#creating train and test sets\n",
    "dataset = tata_lstm.values\n",
    "\n",
    "train = dataset[0:990,:]\n",
    "valid = dataset[990:,:]\n",
    "\n",
    "#converting dataset into x_train and y_train\n",
    "scaler = MinMaxScaler(feature_range=(0, 1))\n",
    "scaled_data = scaler.fit_transform(dataset)\n",
    "\n",
    "x_train, y_train = [], []\n",
    "for i in range(60,len(train)):\n",
    "    x_train.append(scaled_data[i-60:i,0])\n",
    "    y_train.append(scaled_data[i,0])\n",
    "x_train, y_train = np.array(x_train), np.array(y_train)\n",
    "\n",
    "x_train = np.reshape(x_train, (x_train.shape[0],x_train.shape[1],1))\n",
    "\n",
    "# create and fit the LSTM network\n",
    "model = Sequential()\n",
    "model.add(LSTM(units=50, return_sequences=True, input_shape=(x_train.shape[1],1)))\n",
    "model.add(LSTM(units=50))\n",
    "model.add(Dense(1))\n",
    "\n",
    "model.compile(loss='mean_squared_error', optimizer='adam')\n",
    "model.fit(x_train, y_train, epochs=1, batch_size=1, verbose=2)\n",
    "print('Fitting Model')\n",
    "#predicting 246 values, using past 60 from the train data\n",
    "inputs = tata_lstm[len(tata_lstm) - len(valid) - 60:].values\n",
    "inputs = inputs.reshape(-1,1)\n",
    "inputs  = scaler.transform(inputs)\n",
    "\n",
    "X_test = []\n",
    "for i in range(60,inputs.shape[0]):\n",
    "    X_test.append(inputs[i-60:i,0])\n",
    "X_test = np.array(X_test)\n",
    "\n",
    "X_test = np.reshape(X_test, (X_test.shape[0],X_test.shape[1],1))\n",
    "closing_price = model.predict(X_test)\n",
    "closing_price = scaler.inverse_transform(closing_price)\n",
    "\n",
    "rms=np.sqrt(mean_squared_error(closing_price,valid))\n",
    "print('RMSE is',rms)\n",
    "\n",
    "#for plotting\n",
    "train = tata_lstm[:990]\n",
    "valid = tata_lstm[990:]\n",
    "valid['Predictions'] = closing_price\n",
    "plt.plot(train['Adj Close'])\n",
    "plt.plot(valid[['Adj Close','Predictions']]);\n",
    "plt.title('Predicted adj close price vs actual close price on Tata Motors ');"
   ]
  },
  {
   "cell_type": "markdown",
   "id": "e3ccd1e8",
   "metadata": {},
   "source": [
    "#### On Trident"
   ]
  },
  {
   "cell_type": "code",
   "execution_count": null,
   "id": "ba525dcd",
   "metadata": {},
   "outputs": [],
   "source": [
    "#creating dataframe\n",
    "tri_lstm = pd.DataFrame(index=range(0,len(trident_df)),columns=['Date', 'Adj Close'])\n",
    "for i in range(0,len(trident_df)):\n",
    "    tri_lstm['Date'][i] = trident_df['Date'][i]\n",
    "    tri_lstm['Adj Close'][i] = trident_df['Adj Close'][i]\n",
    "\n",
    "#setting index\n",
    "tri_lstm.index = tri_lstm.Date\n",
    "tri_lstm.drop('Date', axis=1, inplace=True)\n",
    "\n",
    "\n",
    "#creating train and test sets\n",
    "dataset = tri_lstm.values\n",
    "\n",
    "train = dataset[0:990,:]\n",
    "valid = dataset[990:,:]\n",
    "\n",
    "#converting dataset into x_train and y_train\n",
    "scaler = MinMaxScaler(feature_range=(0, 1))\n",
    "scaled_data = scaler.fit_transform(dataset)\n",
    "\n",
    "x_train, y_train = [], []\n",
    "for i in range(60,len(train)):\n",
    "    x_train.append(scaled_data[i-60:i,0])\n",
    "    y_train.append(scaled_data[i,0])\n",
    "x_train, y_train = np.array(x_train), np.array(y_train)\n",
    "\n",
    "x_train = np.reshape(x_train, (x_train.shape[0],x_train.shape[1],1))\n",
    "\n",
    "# create and fit the LSTM network\n",
    "model = Sequential()\n",
    "model.add(LSTM(units=50, return_sequences=True, input_shape=(x_train.shape[1],1)))\n",
    "model.add(LSTM(units=50))\n",
    "model.add(Dense(1))\n",
    "\n",
    "model.compile(loss='mean_squared_error', optimizer='adam')\n",
    "model.fit(x_train, y_train, epochs=1, batch_size=1, verbose=2)\n",
    "print('Fitting Model')\n",
    "#predicting 246 values, using past 60 from the train data\n",
    "inputs = tri_lstm[len(tri_lstm) - len(valid) - 60:].values\n",
    "inputs = inputs.reshape(-1,1)\n",
    "inputs  = scaler.transform(inputs)\n",
    "\n",
    "X_test = []\n",
    "for i in range(60,inputs.shape[0]):\n",
    "    X_test.append(inputs[i-60:i,0])\n",
    "X_test = np.array(X_test)\n",
    "\n",
    "X_test = np.reshape(X_test, (X_test.shape[0],X_test.shape[1],1))\n",
    "closing_price = model.predict(X_test)\n",
    "closing_price = scaler.inverse_transform(closing_price)\n",
    "\n",
    "rms=np.sqrt(mean_squared_error(closing_price,valid))\n",
    "print('RMSE is',rms)\n",
    "\n",
    "#for plotting\n",
    "train = tri_lstm[:990]\n",
    "valid = tri_lstm[990:]\n",
    "valid['Predictions'] = closing_price\n",
    "plt.plot(train['Adj Close'])\n",
    "plt.plot(valid[['Adj Close','Predictions']]);\n",
    "plt.title('Predicted adj close price vs actual close price on Trident ');"
   ]
  },
  {
   "cell_type": "markdown",
   "id": "82d72aa2",
   "metadata": {},
   "source": [
    "#### Inference"
   ]
  },
  {
   "cell_type": "markdown",
   "id": "7b80d775",
   "metadata": {},
   "source": [
    "Wow! The LSTM model can be tuned for various parameters such as changing the number of LSTM layers, adding dropout value or increasing the number of epochs. But are the predictions from LSTM enough to identify whether the stock price will increase or decrease.\n",
    "\n"
   ]
  },
  {
   "cell_type": "markdown",
   "id": "ef190594",
   "metadata": {},
   "source": [
    "Stock price is affected by the news about the company and other factors like demonetization or merger/demerger of the companies. There are certain intangible factors as well which can often be impossible to predict beforehand"
   ]
  }
 ],
 "metadata": {
  "kernelspec": {
   "display_name": "Python 3 (ipykernel)",
   "language": "python",
   "name": "python3"
  },
  "language_info": {
   "codemirror_mode": {
    "name": "ipython",
    "version": 3
   },
   "file_extension": ".py",
   "mimetype": "text/x-python",
   "name": "python",
   "nbconvert_exporter": "python",
   "pygments_lexer": "ipython3",
   "version": "3.10.8"
  }
 },
 "nbformat": 4,
 "nbformat_minor": 5
}
